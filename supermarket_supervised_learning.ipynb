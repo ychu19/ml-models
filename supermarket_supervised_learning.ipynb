{
 "cells": [
  {
   "cell_type": "code",
   "execution_count": 1,
   "metadata": {},
   "outputs": [],
   "source": [
    "import requests\n",
    "from bs4 import BeautifulSoup\n",
    "import pandas as pd\n",
    "from time import sleep # control the crawl rate to avoid hammering the servers with too many requests\n",
    "from random import randint\n",
    "import re # regular expression"
   ]
  },
  {
   "cell_type": "code",
   "execution_count": 2,
   "metadata": {},
   "outputs": [],
   "source": [
    "def parsing_pages(list_of_pages):\n",
    "    pages = []\n",
    "    for page in list_of_pages:\n",
    "        if pd.notnull(page):\n",
    "            all_pages = requests.get(page)\n",
    "            each_page = BeautifulSoup(all_pages.content, \"html.parser\")\n",
    "            pages.append(each_page)\n",
    "            sleep(randint(2,6))\n",
    "        else: \n",
    "            pages.append(None)\n",
    "    return pages"
   ]
  },
  {
   "cell_type": "markdown",
   "metadata": {},
   "source": [
    "## Scarpping H Mart Grocery Items"
   ]
  },
  {
   "cell_type": "code",
   "execution_count": 3,
   "metadata": {},
   "outputs": [],
   "source": [
    "hmart = ['https://www.hmart.com/groceries?p=' + str(i) for i in range(1,16)]\n",
    "hmart_parsed = parsing_pages(hmart)"
   ]
  },
  {
   "cell_type": "code",
   "execution_count": 4,
   "metadata": {},
   "outputs": [],
   "source": [
    "# finding item names from a list of beautifulsoup objects\n",
    "key = 'product name product-item-name'\n",
    "items = [] \n",
    "for page in hmart_parsed:\n",
    "    items_in_pages = page.find_all('strong', class_=key)\n",
    "    for item in items_in_pages:\n",
    "        items_per_page = item.get_text().replace('\\n','').replace('\\r','').strip().replace('     ', ' ').lower()\n",
    "        items.append(items_per_page)\n",
    "# a = hmart_parsed[0].find_all('strong', class_=key)\n",
    "# [i.get_text() for i in a]\n",
    "brands = [i.split('        ')[0] for i in items] # 8 whitespaces for the best result\n",
    "item_names = [i.split('        ')[-1] for i in items]"
   ]
  },
  {
   "cell_type": "code",
   "execution_count": 5,
   "metadata": {},
   "outputs": [],
   "source": [
    "regrex = re.compile(r'\\d\\..*')\n",
    "item_volumns = [regrex.findall(i) for i in item_names]\n",
    "# item_test = []\n",
    "# item_volumns = []\n",
    "# for item in item_names:\n",
    "#     item_volumn = regrex.findall(item)\n",
    "#     item_test.append(item_volumn)\n",
    "#     for i in item_volumn:\n",
    "#         if i != '':\n",
    "#             item_volumns.append(i)\n",
    "#         else:\n",
    "#             item_volumns.append(None)\n",
    "#             print('No match!')"
   ]
  },
  {
   "cell_type": "code",
   "execution_count": null,
   "metadata": {},
   "outputs": [],
   "source": [
    "## asian items with brand names\n",
    "asian_items = []\n",
    "for i, j in zip(brands, item_names):\n",
    "    asian_item = i + ' ' + j\n",
    "    asian_items.append(asian_item)\n",
    "\n",
    "asian_items_no_volumns = []\n",
    "for i in asian_items:\n",
    "    asian_item = re.sub(' \\d\\..*', '', i)\n",
    "    asian_items_no_volumns.append(asian_item)\n",
    "\n",
    "# asian_items_no_volumns\n",
    "# item_names"
   ]
  },
  {
   "cell_type": "code",
   "execution_count": 6,
   "metadata": {},
   "outputs": [
    {
     "data": {
      "text/plain": [
       "704"
      ]
     },
     "execution_count": 6,
     "metadata": {},
     "output_type": "execute_result"
    }
   ],
   "source": [
    "len(item_volumns)"
   ]
  },
  {
   "cell_type": "code",
   "execution_count": 244,
   "metadata": {},
   "outputs": [],
   "source": [
    "columns = {\n",
    "#     'brand_name': brands,\n",
    "    'item_name': asian_items_no_volumns,\n",
    "    'item_volumn': item_volumns,\n",
    "    'type': 'asian'\n",
    "}\n",
    "asian_items = pd.DataFrame(data = columns)"
   ]
  },
  {
   "cell_type": "code",
   "execution_count": 245,
   "metadata": {},
   "outputs": [
    {
     "data": {
      "text/html": [
       "<div>\n",
       "<style scoped>\n",
       "    .dataframe tbody tr th:only-of-type {\n",
       "        vertical-align: middle;\n",
       "    }\n",
       "\n",
       "    .dataframe tbody tr th {\n",
       "        vertical-align: top;\n",
       "    }\n",
       "\n",
       "    .dataframe thead th {\n",
       "        text-align: right;\n",
       "    }\n",
       "</style>\n",
       "<table border=\"1\" class=\"dataframe\">\n",
       "  <thead>\n",
       "    <tr style=\"text-align: right;\">\n",
       "      <th></th>\n",
       "      <th>item_name</th>\n",
       "      <th>item_volumn</th>\n",
       "      <th>type</th>\n",
       "    </tr>\n",
       "  </thead>\n",
       "  <tbody>\n",
       "    <tr>\n",
       "      <th>0</th>\n",
       "      <td>cj hetbahn cooked white rice box</td>\n",
       "      <td>[7.4oz(210g) 12 ea]</td>\n",
       "      <td>asian</td>\n",
       "    </tr>\n",
       "    <tr>\n",
       "      <th>1</th>\n",
       "      <td>cj cooked white rice with seaweed soup</td>\n",
       "      <td>[5.9oz(167g)]</td>\n",
       "      <td>asian</td>\n",
       "    </tr>\n",
       "    <tr>\n",
       "      <th>2</th>\n",
       "      <td>samyang hot chicken flavor ramen</td>\n",
       "      <td>[4.94oz(140g) 5 packs]</td>\n",
       "      <td>asian</td>\n",
       "    </tr>\n",
       "    <tr>\n",
       "      <th>3</th>\n",
       "      <td>cj cooked white rice with soft tofu stew</td>\n",
       "      <td>[6.1oz(174g)]</td>\n",
       "      <td>asian</td>\n",
       "    </tr>\n",
       "    <tr>\n",
       "      <th>4</th>\n",
       "      <td>haioreum peeled roasted chestnuts</td>\n",
       "      <td>[3.52oz(100g)]</td>\n",
       "      <td>asian</td>\n",
       "    </tr>\n",
       "  </tbody>\n",
       "</table>\n",
       "</div>"
      ],
      "text/plain": [
       "                                  item_name             item_volumn   type\n",
       "0          cj hetbahn cooked white rice box     [7.4oz(210g) 12 ea]  asian\n",
       "1    cj cooked white rice with seaweed soup           [5.9oz(167g)]  asian\n",
       "2          samyang hot chicken flavor ramen  [4.94oz(140g) 5 packs]  asian\n",
       "3  cj cooked white rice with soft tofu stew           [6.1oz(174g)]  asian\n",
       "4         haioreum peeled roasted chestnuts          [3.52oz(100g)]  asian"
      ]
     },
     "execution_count": 245,
     "metadata": {},
     "output_type": "execute_result"
    }
   ],
   "source": [
    "asian_items.head()"
   ]
  },
  {
   "cell_type": "code",
   "execution_count": null,
   "metadata": {},
   "outputs": [],
   "source": [
    "asian_items.to_csv('hmar')"
   ]
  },
  {
   "cell_type": "markdown",
   "metadata": {},
   "source": [
    "## Scraping Items from Other Supermarket"
   ]
  },
  {
   "cell_type": "code",
   "execution_count": 261,
   "metadata": {},
   "outputs": [],
   "source": [
    "# walmart = ['https://www.walmart.com/browse/food/976759?page=' + str(i) for i in range(1,26)]\n",
    "# walmart_parsed = parsing_pages(walmart)"
   ]
  },
  {
   "cell_type": "code",
   "execution_count": 270,
   "metadata": {},
   "outputs": [
    {
     "data": {
      "text/plain": [
       "['Cheerios, Whole Grain Oats Cereal, Gluten Free, 18 oz',\n",
       " '(3 Pack) Lipton Beefy Onion Soup and Dip Mix, 2.2 oz',\n",
       " '(12 Count) Gatorade Thirst Quencher Sports Drink, Cool Blue, 12 fl oz',\n",
       " '(8 Cans) StarKist Chunk Light Tuna in Water, 5 oz',\n",
       " 'Premier Protein Shake, Chocolate, 30g Protein, 11 Fl Oz, 4 Ct',\n",
       " 'eat2explore Educational Food & Culture Explorer Box - Explore China!',\n",
       " 'My College Crate Microwaveables Ultimate Snack Care Package for College Students - Variety Assortment of Microwaveables, Mac & Cheese, Popcorn, Ramen, Chips, Gummies & Candies (50 Snacks)',\n",
       " '(3 Pack) Betty Crocker Hamburger Helper, Double Cheeseburger Macaroni Hamburger Helper, 12.1 Oz Box (Twin Pack)',\n",
       " 'Doritos Nacho Cheese Flavored Tortilla Chips, Party Size, 15 oz',\n",
       " 'Kraft Original Flavor Mac and Cheese, 5 ct - 7.25 oz Multipack']"
      ]
     },
     "execution_count": 270,
     "metadata": {},
     "output_type": "execute_result"
    }
   ],
   "source": [
    "# test = walmart_parsed[0].find_all('div', class_='search-result-product-title gridview')\n",
    "# [i.find('a').get_text() for i in test] # dynamic websites"
   ]
  },
  {
   "cell_type": "code",
   "execution_count": 10,
   "metadata": {},
   "outputs": [],
   "source": [
    "# kroger = ['https://www.kroger.com/pl/packaged-meals-sides/01011?page=' + \n",
    "#                     str(i) for i in range(1,13)]\n",
    "# kroger_test = 'https://www.kroger.com/pl/packaged-meals-sides/01011?page=1'\n",
    "# test = requests.get(kroger_test)\n",
    "# test_parsed = BeautifulSoup(test.content, 'html.parser')\n",
    "\n",
    "# test\n",
    "# kroger_beverages_parsed = parsing_pages(kroger_beverages)"
   ]
  },
  {
   "cell_type": "code",
   "execution_count": 187,
   "metadata": {},
   "outputs": [],
   "source": [
    "from selenium import webdriver\n",
    "from selenium.webdriver.common.keys import Keys\n",
    "import chromedriver_binary # adds chromedriver binary to path\n",
    "from selenium.webdriver.common.by import By # for wait time\n",
    "from selenium.webdriver.support.ui import WebDriverWait # for wait time\n",
    "from selenium.webdriver.support import expected_conditions as EC # for wait time conditions\n",
    "\n",
    "driver = webdriver.Chrome()\n",
    "driver.get(\"https://www.walmart.com/browse/food/\")"
   ]
  },
  {
   "cell_type": "code",
   "execution_count": 155,
   "metadata": {},
   "outputs": [],
   "source": [
    "items = driver.find_elements_by_css_selector(\".product-title-link.line-clamp span\")"
   ]
  },
  {
   "cell_type": "code",
   "execution_count": 156,
   "metadata": {},
   "outputs": [],
   "source": [
    "list_of_items = [i.text for i in items]"
   ]
  },
  {
   "cell_type": "code",
   "execution_count": 179,
   "metadata": {},
   "outputs": [],
   "source": [
    "# driver.find_element_by_css_selector(\".elc-icon.paginator-hairline-btn\").click()"
   ]
  },
  {
   "cell_type": "code",
   "execution_count": 188,
   "metadata": {},
   "outputs": [],
   "source": [
    "import time\n",
    "from random import randint\n",
    "\n",
    "list_of_items_from_pages = []\n",
    "for n in range(1,26):\n",
    "        driver.get(\"https://www.walmart.com/browse/food/?page=\" + str(n))\n",
    "        items_from_pages = driver.find_elements_by_css_selector(\".product-title-link.line-clamp span\")\n",
    "        for i in items_from_pages:\n",
    "            items_extracted = i.text\n",
    "            list_of_items_from_pages.append(items_extracted)\n",
    "        time.sleep(3)"
   ]
  },
  {
   "cell_type": "code",
   "execution_count": 189,
   "metadata": {},
   "outputs": [
    {
     "data": {
      "text/plain": [
       "994"
      ]
     },
     "execution_count": 189,
     "metadata": {},
     "output_type": "execute_result"
    }
   ],
   "source": [
    "len(list_of_items_from_pages)"
   ]
  },
  {
   "cell_type": "code",
   "execution_count": 203,
   "metadata": {},
   "outputs": [],
   "source": [
    "walmart = pd.Series(list_of_items_from_pages)\n",
    "walmart.to_csv('walmart.csv')"
   ]
  },
  {
   "cell_type": "markdown",
   "metadata": {},
   "source": [
    "### Cleaning the Item Names"
   ]
  },
  {
   "cell_type": "code",
   "execution_count": 192,
   "metadata": {},
   "outputs": [],
   "source": [
    "# getting rid of units/volumns at the beginning of each item\n",
    "pack = re.compile(r'\\(\\d{1,} (?:pack|count|cans)\\)') \n",
    "# list_of_items = [i.loewr() for i in list_of_items]\n",
    "list_of_items_from_pages = [re.sub(pack, '', i.lower()) for i in list_of_items_from_pages]\n",
    "\n",
    "# isolating volumns at the end\n",
    "regrex = re.compile(r'(?:, \\d{1,}|\\d{1,} (?:mg|oz|fl|ct)|, \\d{1,} (?:mg|oz|fl|ct)).*')\n",
    "walmart_item_volumns = [regrex.findall(i) for i in list_of_items_from_pages]\n",
    "walmart_item_names = [re.sub(regrex, '', i.split(',')[0].strip()) for i in list_of_items_from_pages]"
   ]
  },
  {
   "cell_type": "code",
   "execution_count": 246,
   "metadata": {},
   "outputs": [
    {
     "data": {
      "text/html": [
       "<div>\n",
       "<style scoped>\n",
       "    .dataframe tbody tr th:only-of-type {\n",
       "        vertical-align: middle;\n",
       "    }\n",
       "\n",
       "    .dataframe tbody tr th {\n",
       "        vertical-align: top;\n",
       "    }\n",
       "\n",
       "    .dataframe thead th {\n",
       "        text-align: right;\n",
       "    }\n",
       "</style>\n",
       "<table border=\"1\" class=\"dataframe\">\n",
       "  <thead>\n",
       "    <tr style=\"text-align: right;\">\n",
       "      <th></th>\n",
       "      <th>item_name</th>\n",
       "      <th>item_volumn</th>\n",
       "      <th>type</th>\n",
       "    </tr>\n",
       "  </thead>\n",
       "  <tbody>\n",
       "    <tr>\n",
       "      <th>0</th>\n",
       "      <td>lipton recipe secrets soup and dip mix onion</td>\n",
       "      <td>[2 oz 2 count]</td>\n",
       "      <td>non-asian</td>\n",
       "    </tr>\n",
       "    <tr>\n",
       "      <th>1</th>\n",
       "      <td>doritos nacho cheese flavored tortilla chips</td>\n",
       "      <td>[, 15 oz]</td>\n",
       "      <td>non-asian</td>\n",
       "    </tr>\n",
       "    <tr>\n",
       "      <th>2</th>\n",
       "      <td>equate 70% isopropyl alcohol</td>\n",
       "      <td>[, 32 oz]</td>\n",
       "      <td>non-asian</td>\n",
       "    </tr>\n",
       "    <tr>\n",
       "      <th>3</th>\n",
       "      <td>purina dog chow complete with real chicken adu...</td>\n",
       "      <td>[]</td>\n",
       "      <td>non-asian</td>\n",
       "    </tr>\n",
       "    <tr>\n",
       "      <th>4</th>\n",
       "      <td>assurance premium xl disposable washcloths</td>\n",
       "      <td>[, 144 ct]</td>\n",
       "      <td>non-asian</td>\n",
       "    </tr>\n",
       "  </tbody>\n",
       "</table>\n",
       "</div>"
      ],
      "text/plain": [
       "                                           item_name     item_volumn       type\n",
       "0      lipton recipe secrets soup and dip mix onion   [2 oz 2 count]  non-asian\n",
       "1       doritos nacho cheese flavored tortilla chips       [, 15 oz]  non-asian\n",
       "2                       equate 70% isopropyl alcohol       [, 32 oz]  non-asian\n",
       "3  purina dog chow complete with real chicken adu...              []  non-asian\n",
       "4         assurance premium xl disposable washcloths      [, 144 ct]  non-asian"
      ]
     },
     "execution_count": 246,
     "metadata": {},
     "output_type": "execute_result"
    }
   ],
   "source": [
    "columns = {\n",
    "    'item_name': walmart_item_names,\n",
    "    'item_volumn': walmart_item_volumns,\n",
    "    'type': 'non-asian'\n",
    "}\n",
    "walmart_items = pd.DataFrame(data = columns)\n",
    "walmart_items.head()\n"
   ]
  },
  {
   "cell_type": "markdown",
   "metadata": {},
   "source": [
    "## Tokenizing Item Names"
   ]
  },
  {
   "cell_type": "code",
   "execution_count": 267,
   "metadata": {},
   "outputs": [],
   "source": [
    "## First, concat the two lists together\n",
    "\n",
    "frames = [walmart_items, asian_items]\n",
    "df = pd.concat(frames).reset_index(drop = True)\n",
    "\n",
    "\n",
    "## seperate training and test sets\n",
    "from random import sample\n",
    "df_train = df.sample(frac=0.6, random_state=0)\n",
    "df_test = df.drop(dt_train.index)"
   ]
  },
  {
   "cell_type": "code",
   "execution_count": 268,
   "metadata": {},
   "outputs": [],
   "source": [
    "from sklearn.feature_extraction.text import CountVectorizer\n",
    "from sklearn.feature_extraction.text import TfidfTransformer\n",
    "\n",
    "count_vect = CountVectorizer(stop_words='english',max_df=0.85)\n",
    "train_vect = count_vect.fit_transform(df_train.item_name)"
   ]
  },
  {
   "cell_type": "code",
   "execution_count": 269,
   "metadata": {},
   "outputs": [
    {
     "data": {
      "text/plain": [
       "(1019, 1719)"
      ]
     },
     "execution_count": 269,
     "metadata": {},
     "output_type": "execute_result"
    }
   ],
   "source": [
    "train_tf_transformer = TfidfTransformer(use_idf=False).fit(train_vect)\n",
    "train_tf = train_tf_transformer.transform(train_vect)\n",
    "train_tf.shape"
   ]
  },
  {
   "cell_type": "code",
   "execution_count": 271,
   "metadata": {},
   "outputs": [],
   "source": [
    "from sklearn.decomposition import NMF\n",
    "\n",
    "nmf = NMF(n_components = 20, random_state=3,\n",
    "          init='nndsvd')# .fit(upc_tf) # nndsvd for sparse data\n",
    "#          alpha=.1, l1_ratio=.5)\n",
    "nmf_fit = nmf.fit(train_tf)"
   ]
  },
  {
   "cell_type": "code",
   "execution_count": 272,
   "metadata": {},
   "outputs": [],
   "source": [
    "test_vect = count_vect.transform(df_test.item_name) # not fitting, but transforming\n",
    "# test_tf_transformer = TfidfTransformer(use_idf=False).fit(train_vect)\n",
    "test_tf = train_tf_transformer.transform(test_vect)\n",
    "test_tf.shape\n",
    "\n",
    "test_nmf = nmf_fit.transform(test_tf)"
   ]
  },
  {
   "cell_type": "code",
   "execution_count": 273,
   "metadata": {},
   "outputs": [
    {
     "data": {
      "text/plain": [
       "0.946980854197349"
      ]
     },
     "execution_count": 273,
     "metadata": {},
     "output_type": "execute_result"
    }
   ],
   "source": [
    "from sklearn.linear_model import LogisticRegression\n",
    "\n",
    "features = \n",
    "\n",
    "X_train = train_tf\n",
    "y_train = df_train.type\n",
    "\n",
    "log_reg = LogisticRegression()\n",
    "log_reg.fit(X_train, y_train)\n",
    "\n",
    "X_test = test_tf\n",
    "y_test = df_test.type\n",
    "\n",
    "log_reg.score(X_test, y_test)"
   ]
  },
  {
   "cell_type": "markdown",
   "metadata": {},
   "source": [
    "## Test with Items at Kroger"
   ]
  },
  {
   "cell_type": "code",
   "execution_count": 291,
   "metadata": {},
   "outputs": [],
   "source": [
    "driver = webdriver.Chrome()\n",
    "driver.get(\"https://www.kroger.com/search?fulfillment=all&page=1&query=food\")"
   ]
  },
  {
   "cell_type": "code",
   "execution_count": 278,
   "metadata": {},
   "outputs": [],
   "source": [
    "test = driver.find_elements_by_css_selector(\".kds-Text--m.text-default-800.mt-12.mb-4.font-500\")\n",
    "[i.text for i in test]"
   ]
  },
  {
   "cell_type": "code",
   "execution_count": 281,
   "metadata": {},
   "outputs": [],
   "source": [
    "# [i.text for i in elements]"
   ]
  },
  {
   "cell_type": "code",
   "execution_count": 292,
   "metadata": {},
   "outputs": [],
   "source": [
    "# from random import randint\n",
    "\n",
    "kroger_items = []\n",
    "for n in range(1,3):\n",
    "    driver.get(\"https://www.kroger.com/search?fulfillment=all&page=\" + str(n) + \"&query=food\")\n",
    "    items = driver.find_elements_by_css_selector(\".kds-Text--m.text-default-800.mt-12.mb-4.font-500\")\n",
    "    for i in items:\n",
    "        items_extracted = i.text\n",
    "        kroger_items.append(items_extracted)\n",
    "        time.sleep(randint(3,10))"
   ]
  },
  {
   "cell_type": "code",
   "execution_count": 290,
   "metadata": {},
   "outputs": [
    {
     "data": {
      "text/plain": [
       "[]"
      ]
     },
     "execution_count": 290,
     "metadata": {},
     "output_type": "execute_result"
    }
   ],
   "source": [
    "kroger_items"
   ]
  },
  {
   "cell_type": "markdown",
   "metadata": {},
   "source": [
    "(Kroger denied access :P)"
   ]
  },
  {
   "cell_type": "markdown",
   "metadata": {},
   "source": [
    "## Test with Wegmans"
   ]
  },
  {
   "cell_type": "code",
   "execution_count": 313,
   "metadata": {},
   "outputs": [],
   "source": [
    "# driver = webdriver.Chrome()\n",
    "# driver.get(\"https://shop.wegmans.com/shop/categories/283?page=1\")\n",
    "# time.sleep(3)\n",
    "# driver.find_element_by_css_selector(\"#shopping-selector-shop-context-intent-instore\").click()\n",
    "# time.sleep(3)\n",
    "text = driver.find_elements_by_css_selector(\".cell-title\")\n"
   ]
  },
  {
   "cell_type": "code",
   "execution_count": 320,
   "metadata": {},
   "outputs": [],
   "source": [
    "driver = webdriver.Chrome()\n",
    "\n",
    "wegmans_items = []\n",
    "driver.get(\"https://shop.wegmans.com/shop/categories/283?page=1\")\n",
    "time.sleep(3)\n",
    "driver.find_element_by_css_selector(\"#shopping-selector-shop-context-intent-instore\").click()\n",
    "time.sleep(3)\n",
    "for n in range(1,133):\n",
    "    time.sleep(2)\n",
    "    driver.get(\"https://shop.wegmans.com/shop/categories/283?page=\" + str(n))\n",
    "    time.sleep(3)\n",
    "    items = driver.find_elements_by_css_selector(\".cell-title\")\n",
    "    for i in items:\n",
    "        items_extracted = i.text\n",
    "        wegmans_items.append(items_extracted)\n",
    "    time.sleep(randint(3,10))"
   ]
  },
  {
   "cell_type": "code",
   "execution_count": 321,
   "metadata": {},
   "outputs": [
    {
     "data": {
      "text/plain": [
       "6691"
      ]
     },
     "execution_count": 321,
     "metadata": {},
     "output_type": "execute_result"
    }
   ],
   "source": [
    "len(wegmans_items)"
   ]
  },
  {
   "cell_type": "code",
   "execution_count": 322,
   "metadata": {},
   "outputs": [],
   "source": [
    "wegmans_items = pd.Series(wegmans_items)\n",
    "wegmans_items.to_csv('wegmans.csv')"
   ]
  },
  {
   "cell_type": "code",
   "execution_count": 316,
   "metadata": {},
   "outputs": [
    {
     "data": {
      "text/plain": [
       "['Wegmans Black Beans', '15.5 ounce', '15B']"
      ]
     },
     "execution_count": 316,
     "metadata": {},
     "output_type": "execute_result"
    }
   ],
   "source": [
    "testing = [i.text for i in text]\n",
    "testing[0].split('\\n')"
   ]
  },
  {
   "cell_type": "code",
   "execution_count": null,
   "metadata": {},
   "outputs": [],
   "source": []
  }
 ],
 "metadata": {
  "kernelspec": {
   "display_name": "Python 3 (Spyder)",
   "language": "python3",
   "name": "python3"
  },
  "language_info": {
   "codemirror_mode": {
    "name": "ipython",
    "version": 3
   },
   "file_extension": ".py",
   "mimetype": "text/x-python",
   "name": "python",
   "nbconvert_exporter": "python",
   "pygments_lexer": "ipython3",
   "version": "3.8.3"
  }
 },
 "nbformat": 4,
 "nbformat_minor": 4
}
