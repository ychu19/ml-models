{
 "cells": [
  {
   "cell_type": "code",
   "execution_count": 6,
   "metadata": {},
   "outputs": [],
   "source": [
    "import requests\n",
    "from bs4 import BeautifulSoup\n",
    "import pandas as pd\n",
    "from time import sleep # control the crawl rate to avoid hammering the servers with too many requests\n",
    "from random import randint\n",
    "import re # regular expression\n",
    "\n",
    "from selenium import webdriver\n",
    "from selenium.webdriver.common.keys import Keys\n",
    "import chromedriver_binary # adds chromedriver binary to path\n",
    "from selenium.webdriver.common.by import By # for wait time\n",
    "from selenium.webdriver.support.ui import WebDriverWait # for wait time\n",
    "from selenium.webdriver.support import expected_conditions as EC # for wait time conditions"
   ]
  },
  {
   "cell_type": "code",
   "execution_count": 32,
   "metadata": {},
   "outputs": [],
   "source": [
    "def parsing_pages(list_of_pages):\n",
    "    pages = []\n",
    "    for page in list_of_pages:\n",
    "        if pd.notnull(page):\n",
    "            all_pages = requests.get(page)\n",
    "            each_page = BeautifulSoup(all_pages.content, \"html.parser\")\n",
    "            pages.append(each_page)\n",
    "            sleep(randint(2,6))\n",
    "        else: \n",
    "            pages.append(None)\n",
    "    return pages"
   ]
  },
  {
   "cell_type": "markdown",
   "metadata": {},
   "source": [
    "## Scarpping H Mart Grocery Items"
   ]
  },
  {
   "cell_type": "code",
   "execution_count": 33,
   "metadata": {},
   "outputs": [],
   "source": [
    "hmart = ['https://www.hmart.com/groceries?p=' + str(i) for i in range(1,16)]\n",
    "hmart_parsed = parsing_pages(hmart)"
   ]
  },
  {
   "cell_type": "code",
   "execution_count": 4,
   "metadata": {},
   "outputs": [],
   "source": [
    "# finding item names from a list of beautifulsoup objects\n",
    "key = 'product name product-item-name'\n",
    "items = [] \n",
    "for page in hmart_parsed:\n",
    "    items_in_pages = page.find_all('strong', class_=key)\n",
    "    for item in items_in_pages:\n",
    "        items_per_page = item.get_text().replace('\\n','').replace('\\r','').strip().replace('     ', ' ').lower()\n",
    "        items.append(items_per_page)\n",
    "# a = hmart_parsed[0].find_all('strong', class_=key)\n",
    "# [i.get_text() for i in a]\n",
    "brands = [i.split('        ')[0] for i in items] # 8 whitespaces for the best result\n",
    "item_names = [i.split('        ')[-1] for i in items]"
   ]
  },
  {
   "cell_type": "code",
   "execution_count": 5,
   "metadata": {},
   "outputs": [],
   "source": [
    "regrex = re.compile(r'\\d\\..*')\n",
    "item_volumns = [regrex.findall(i) for i in item_names]\n",
    "# item_test = []\n",
    "# item_volumns = []\n",
    "# for item in item_names:\n",
    "#     item_volumn = regrex.findall(item)\n",
    "#     item_test.append(item_volumn)\n",
    "#     for i in item_volumn:\n",
    "#         if i != '':\n",
    "#             item_volumns.append(i)\n",
    "#         else:\n",
    "#             item_volumns.append(None)\n",
    "#             print('No match!')"
   ]
  },
  {
   "cell_type": "code",
   "execution_count": null,
   "metadata": {},
   "outputs": [],
   "source": [
    "## asian items with brand names\n",
    "asian_items = []\n",
    "for i, j in zip(brands, item_names):\n",
    "    asian_item = i + ' ' + j\n",
    "    asian_items.append(asian_item)\n",
    "\n",
    "asian_items_no_volumns = []\n",
    "for i in asian_items:\n",
    "    asian_item = re.sub(' \\d\\..*', '', i)\n",
    "    asian_items_no_volumns.append(asian_item)\n",
    "\n",
    "# asian_items_no_volumns\n",
    "# item_names"
   ]
  },
  {
   "cell_type": "code",
   "execution_count": 6,
   "metadata": {},
   "outputs": [
    {
     "data": {
      "text/plain": [
       "704"
      ]
     },
     "execution_count": 6,
     "metadata": {},
     "output_type": "execute_result"
    }
   ],
   "source": [
    "len(item_volumns)"
   ]
  },
  {
   "cell_type": "code",
   "execution_count": 244,
   "metadata": {},
   "outputs": [],
   "source": [
    "columns = {\n",
    "#     'brand_name': brands,\n",
    "    'item_name': asian_items_no_volumns,\n",
    "    'item_volumn': item_volumns,\n",
    "    'type': 'asian'\n",
    "}\n",
    "asian_items = pd.DataFrame(data = columns)"
   ]
  },
  {
   "cell_type": "code",
   "execution_count": 71,
   "metadata": {},
   "outputs": [
    {
     "ename": "NameError",
     "evalue": "name 'asian_items' is not defined",
     "output_type": "error",
     "traceback": [
      "Traceback \u001b[0;36m(most recent call last)\u001b[0m:\n",
      "\u001b[0;36m  File \u001b[0;32m\"<ipython-input-71-31eb5fbbdb9b>\"\u001b[0;36m, line \u001b[0;32m1\u001b[0;36m, in \u001b[0;35m<module>\u001b[0;36m\u001b[0m\n\u001b[0;31m    asian_items.to_markdown.head()\u001b[0m\n",
      "\u001b[0;31mNameError\u001b[0m\u001b[0;31m:\u001b[0m name 'asian_items' is not defined\n"
     ]
    }
   ],
   "source": [
    "asian_items.to_markdown.head()"
   ]
  },
  {
   "cell_type": "code",
   "execution_count": 323,
   "metadata": {},
   "outputs": [],
   "source": [
    "asian_items.to_csv('hmart.csv')"
   ]
  },
  {
   "cell_type": "markdown",
   "metadata": {},
   "source": [
    "## Scraping Items from Other Supermarket"
   ]
  },
  {
   "cell_type": "code",
   "execution_count": 261,
   "metadata": {},
   "outputs": [],
   "source": [
    "# walmart = ['https://www.walmart.com/browse/food/976759?page=' + str(i) for i in range(1,26)]\n",
    "# walmart_parsed = parsing_pages(walmart)"
   ]
  },
  {
   "cell_type": "code",
   "execution_count": 270,
   "metadata": {},
   "outputs": [
    {
     "data": {
      "text/plain": [
       "['Cheerios, Whole Grain Oats Cereal, Gluten Free, 18 oz',\n",
       " '(3 Pack) Lipton Beefy Onion Soup and Dip Mix, 2.2 oz',\n",
       " '(12 Count) Gatorade Thirst Quencher Sports Drink, Cool Blue, 12 fl oz',\n",
       " '(8 Cans) StarKist Chunk Light Tuna in Water, 5 oz',\n",
       " 'Premier Protein Shake, Chocolate, 30g Protein, 11 Fl Oz, 4 Ct',\n",
       " 'eat2explore Educational Food & Culture Explorer Box - Explore China!',\n",
       " 'My College Crate Microwaveables Ultimate Snack Care Package for College Students - Variety Assortment of Microwaveables, Mac & Cheese, Popcorn, Ramen, Chips, Gummies & Candies (50 Snacks)',\n",
       " '(3 Pack) Betty Crocker Hamburger Helper, Double Cheeseburger Macaroni Hamburger Helper, 12.1 Oz Box (Twin Pack)',\n",
       " 'Doritos Nacho Cheese Flavored Tortilla Chips, Party Size, 15 oz',\n",
       " 'Kraft Original Flavor Mac and Cheese, 5 ct - 7.25 oz Multipack']"
      ]
     },
     "execution_count": 270,
     "metadata": {},
     "output_type": "execute_result"
    }
   ],
   "source": [
    "# test = walmart_parsed[0].find_all('div', class_='search-result-product-title gridview')\n",
    "# [i.find('a').get_text() for i in test] # dynamic websites"
   ]
  },
  {
   "cell_type": "code",
   "execution_count": 10,
   "metadata": {},
   "outputs": [],
   "source": [
    "# kroger = ['https://www.kroger.com/pl/packaged-meals-sides/01011?page=' + \n",
    "#                     str(i) for i in range(1,13)]\n",
    "# kroger_test = 'https://www.kroger.com/pl/packaged-meals-sides/01011?page=1'\n",
    "# test = requests.get(kroger_test)\n",
    "# test_parsed = BeautifulSoup(test.content, 'html.parser')\n",
    "\n",
    "# test\n",
    "# kroger_beverages_parsed = parsing_pages(kroger_beverages)"
   ]
  },
  {
   "cell_type": "code",
   "execution_count": 187,
   "metadata": {},
   "outputs": [],
   "source": [
    "from selenium import webdriver\n",
    "from selenium.webdriver.common.keys import Keys\n",
    "import chromedriver_binary # adds chromedriver binary to path\n",
    "from selenium.webdriver.common.by import By # for wait time\n",
    "from selenium.webdriver.support.ui import WebDriverWait # for wait time\n",
    "from selenium.webdriver.support import expected_conditions as EC # for wait time conditions\n",
    "\n",
    "driver = webdriver.Chrome()\n",
    "driver.get(\"https://www.walmart.com/browse/food/\")"
   ]
  },
  {
   "cell_type": "code",
   "execution_count": 155,
   "metadata": {},
   "outputs": [],
   "source": [
    "items = driver.find_elements_by_css_selector(\".product-title-link.line-clamp span\")"
   ]
  },
  {
   "cell_type": "code",
   "execution_count": 156,
   "metadata": {},
   "outputs": [],
   "source": [
    "list_of_items = [i.text for i in items]"
   ]
  },
  {
   "cell_type": "code",
   "execution_count": 179,
   "metadata": {},
   "outputs": [],
   "source": [
    "# driver.find_element_by_css_selector(\".elc-icon.paginator-hairline-btn\").click()"
   ]
  },
  {
   "cell_type": "code",
   "execution_count": 188,
   "metadata": {},
   "outputs": [],
   "source": [
    "import time\n",
    "from random import randint\n",
    "\n",
    "list_of_items_from_pages = []\n",
    "for n in range(1,26):\n",
    "        driver.get(\"https://www.walmart.com/browse/food/?page=\" + str(n))\n",
    "        items_from_pages = driver.find_elements_by_css_selector(\".product-title-link.line-clamp span\")\n",
    "        for i in items_from_pages:\n",
    "            items_extracted = i.text\n",
    "            list_of_items_from_pages.append(items_extracted)\n",
    "        time.sleep(3)"
   ]
  },
  {
   "cell_type": "code",
   "execution_count": 189,
   "metadata": {},
   "outputs": [
    {
     "data": {
      "text/plain": [
       "994"
      ]
     },
     "execution_count": 189,
     "metadata": {},
     "output_type": "execute_result"
    }
   ],
   "source": [
    "len(list_of_items_from_pages)"
   ]
  },
  {
   "cell_type": "code",
   "execution_count": 203,
   "metadata": {},
   "outputs": [],
   "source": [
    "walmart = pd.Series(list_of_items_from_pages)\n",
    "walmart.to_csv('walmart.csv')"
   ]
  },
  {
   "cell_type": "code",
   "execution_count": 56,
   "metadata": {},
   "outputs": [],
   "source": [
    "## re-openning the file, just gonna import previously scrapped csv files\n",
    "\n",
    "walmart = pd.read_csv('walmart.csv')\n",
    "hmart = pd.read_csv('hmart.csv')\n",
    "walmart = walmart.iloc[:,1]\n",
    "\n",
    "pack = re.compile(r'\\(\\d{1,} (?:pack|count|cans)\\)') \n",
    "walmart = [re.sub(pack, '', i.lower()) for i in walmart]\n",
    "walmart\n",
    "regrex = re.compile(r'(?:, \\d{1,}|\\d{1,} (?:mg|oz|fl|ct)|, \\d{1,} (?:mg|oz|fl|ct)).*')\n",
    "walmart_item_volumns = [regrex.findall(i) for i in walmart]\n",
    "walmart_item_names = [re.sub(regrex, '', i.split(',')[0].strip()) for i in walmart]\n",
    "\n"
   ]
  },
  {
   "cell_type": "code",
   "execution_count": 74,
   "metadata": {},
   "outputs": [
    {
     "data": {
      "text/plain": [
       "\"|    |   Unnamed: 0 | item_name                                | item_volumn              | type   |\\n|---:|-------------:|:-----------------------------------------|:-------------------------|:-------|\\n|  0 |            0 | cj hetbahn cooked white rice box         | ['7.4oz(210g) 12 ea']    | asian  |\\n|  1 |            1 | cj cooked white rice with seaweed soup   | ['5.9oz(167g)']          | asian  |\\n|  2 |            2 | samyang hot chicken flavor ramen         | ['4.94oz(140g) 5 packs'] | asian  |\\n|  3 |            3 | cj cooked white rice with soft tofu stew | ['6.1oz(174g)']          | asian  |\\n|  4 |            4 | haioreum peeled roasted chestnuts        | ['3.52oz(100g)']         | asian  |\""
      ]
     },
     "execution_count": 74,
     "metadata": {},
     "output_type": "execute_result"
    }
   ],
   "source": [
    "hmart.head().to_markdown()"
   ]
  },
  {
   "cell_type": "markdown",
   "metadata": {},
   "source": [
    "### Cleaning the Item Names"
   ]
  },
  {
   "cell_type": "code",
   "execution_count": 192,
   "metadata": {},
   "outputs": [],
   "source": [
    "# getting rid of units/volumns at the beginning of each item\n",
    "pack = re.compile(r'\\(\\d{1,} (?:pack|count|cans)\\)') \n",
    "# list_of_items = [i.loewr() for i in list_of_items]\n",
    "list_of_items_from_pages = [re.sub(pack, '', i.lower()) for i in list_of_items_from_pages]\n",
    "\n",
    "# isolating volumns at the end\n",
    "regrex = re.compile(r'(?:, \\d{1,}|\\d{1,} (?:mg|oz|fl|ct)|, \\d{1,} (?:mg|oz|fl|ct)).*')\n",
    "walmart_item_volumns = [regrex.findall(i) for i in list_of_items_from_pages]\n",
    "walmart_item_names = [re.sub(regrex, '', i.split(',')[0].strip()) for i in list_of_items_from_pages]"
   ]
  },
  {
   "cell_type": "code",
   "execution_count": 57,
   "metadata": {},
   "outputs": [
    {
     "data": {
      "text/html": [
       "<div>\n",
       "<style scoped>\n",
       "    .dataframe tbody tr th:only-of-type {\n",
       "        vertical-align: middle;\n",
       "    }\n",
       "\n",
       "    .dataframe tbody tr th {\n",
       "        vertical-align: top;\n",
       "    }\n",
       "\n",
       "    .dataframe thead th {\n",
       "        text-align: right;\n",
       "    }\n",
       "</style>\n",
       "<table border=\"1\" class=\"dataframe\">\n",
       "  <thead>\n",
       "    <tr style=\"text-align: right;\">\n",
       "      <th></th>\n",
       "      <th>item_name</th>\n",
       "      <th>item_volumn</th>\n",
       "      <th>type</th>\n",
       "    </tr>\n",
       "  </thead>\n",
       "  <tbody>\n",
       "    <tr>\n",
       "      <th>0</th>\n",
       "      <td>lipton recipe secrets soup and dip mix onion</td>\n",
       "      <td>[2 oz 2 count]</td>\n",
       "      <td>non-asian</td>\n",
       "    </tr>\n",
       "    <tr>\n",
       "      <th>1</th>\n",
       "      <td>doritos nacho cheese flavored tortilla chips</td>\n",
       "      <td>[, 15 oz]</td>\n",
       "      <td>non-asian</td>\n",
       "    </tr>\n",
       "    <tr>\n",
       "      <th>2</th>\n",
       "      <td>equate 70% isopropyl alcohol</td>\n",
       "      <td>[, 32 oz]</td>\n",
       "      <td>non-asian</td>\n",
       "    </tr>\n",
       "    <tr>\n",
       "      <th>3</th>\n",
       "      <td>purina dog chow complete with real chicken adu...</td>\n",
       "      <td>[]</td>\n",
       "      <td>non-asian</td>\n",
       "    </tr>\n",
       "    <tr>\n",
       "      <th>4</th>\n",
       "      <td>assurance premium xl disposable washcloths</td>\n",
       "      <td>[, 144 ct]</td>\n",
       "      <td>non-asian</td>\n",
       "    </tr>\n",
       "  </tbody>\n",
       "</table>\n",
       "</div>"
      ],
      "text/plain": [
       "                                           item_name     item_volumn       type\n",
       "0      lipton recipe secrets soup and dip mix onion   [2 oz 2 count]  non-asian\n",
       "1       doritos nacho cheese flavored tortilla chips       [, 15 oz]  non-asian\n",
       "2                       equate 70% isopropyl alcohol       [, 32 oz]  non-asian\n",
       "3  purina dog chow complete with real chicken adu...              []  non-asian\n",
       "4         assurance premium xl disposable washcloths      [, 144 ct]  non-asian"
      ]
     },
     "execution_count": 57,
     "metadata": {},
     "output_type": "execute_result"
    }
   ],
   "source": [
    "columns = {\n",
    "    'item_name': walmart_item_names,\n",
    "    'item_volumn': walmart_item_volumns,\n",
    "    'type': 'non-asian'\n",
    "}\n",
    "walmart_items = pd.DataFrame(data = columns)\n",
    "walmart_items.head()\n"
   ]
  },
  {
   "cell_type": "markdown",
   "metadata": {},
   "source": [
    "## Tokenizing Item Names"
   ]
  },
  {
   "cell_type": "code",
   "execution_count": 62,
   "metadata": {},
   "outputs": [],
   "source": [
    "## First, concat the two lists together\n",
    "\n",
    "frames = [walmart_items, hmart]\n",
    "df = pd.concat(frames).reset_index(drop = True)\n",
    "# df.tail()\n",
    "\n",
    "# seperate training and test sets\n",
    "from random import sample\n",
    "df_train = df.sample(frac=0.6, random_state=0)\n",
    "df_test = df.drop(df_train.index)"
   ]
  },
  {
   "cell_type": "code",
   "execution_count": 63,
   "metadata": {},
   "outputs": [],
   "source": [
    "from sklearn.feature_extraction.text import CountVectorizer\n",
    "from sklearn.feature_extraction.text import TfidfTransformer\n",
    "\n",
    "count_vect = CountVectorizer(stop_words='english',max_df=0.85)\n",
    "train_vect = count_vect.fit_transform(df_train.item_name)"
   ]
  },
  {
   "cell_type": "code",
   "execution_count": 64,
   "metadata": {},
   "outputs": [
    {
     "data": {
      "text/plain": [
       "(1019, 1719)"
      ]
     },
     "execution_count": 64,
     "metadata": {},
     "output_type": "execute_result"
    }
   ],
   "source": [
    "train_tf_transformer = TfidfTransformer(use_idf=False).fit(train_vect)\n",
    "train_tf = train_tf_transformer.transform(train_vect)\n",
    "train_tf.shape"
   ]
  },
  {
   "cell_type": "code",
   "execution_count": 65,
   "metadata": {},
   "outputs": [],
   "source": [
    "from sklearn.decomposition import NMF\n",
    "\n",
    "nmf = NMF(n_components = 20, random_state=3,\n",
    "          init='nndsvd')# .fit(upc_tf) # nndsvd for sparse data\n",
    "#          alpha=.1, l1_ratio=.5)\n",
    "# nmf_fit = nmf.fit(train_tf)"
   ]
  },
  {
   "cell_type": "code",
   "execution_count": 66,
   "metadata": {},
   "outputs": [
    {
     "data": {
      "text/plain": [
       "(679, 1719)"
      ]
     },
     "execution_count": 66,
     "metadata": {},
     "output_type": "execute_result"
    }
   ],
   "source": [
    "test_vect = count_vect.transform(df_test.item_name) # not fitting, but transforming\n",
    "# test_tf_transformer = TfidfTransformer(use_idf=False).fit(train_vect)\n",
    "test_tf = train_tf_transformer.transform(test_vect)\n",
    "test_tf.shape\n",
    "\n",
    "# test_nmf = nmf_fit.transform(test_tf)"
   ]
  },
  {
   "cell_type": "code",
   "execution_count": 67,
   "metadata": {},
   "outputs": [
    {
     "data": {
      "text/plain": [
       "0.946980854197349"
      ]
     },
     "execution_count": 67,
     "metadata": {},
     "output_type": "execute_result"
    }
   ],
   "source": [
    "from sklearn.linear_model import LogisticRegression\n",
    "\n",
    "# features = \n",
    "\n",
    "X_train = train_tf\n",
    "y_train = df_train.type\n",
    "\n",
    "log_reg = LogisticRegression()\n",
    "log_reg.fit(X_train, y_train)\n",
    "\n",
    "X_test = test_tf\n",
    "y_test = df_test.type\n",
    "\n",
    "log_reg.score(X_test, y_test)"
   ]
  },
  {
   "cell_type": "markdown",
   "metadata": {},
   "source": [
    "## Test with Items at Kroger"
   ]
  },
  {
   "cell_type": "code",
   "execution_count": 291,
   "metadata": {},
   "outputs": [],
   "source": [
    "driver = webdriver.Chrome()\n",
    "driver.get(\"https://www.kroger.com/search?fulfillment=all&page=1&query=food\")"
   ]
  },
  {
   "cell_type": "code",
   "execution_count": 278,
   "metadata": {},
   "outputs": [],
   "source": [
    "test = driver.find_elements_by_css_selector(\".kds-Text--m.text-default-800.mt-12.mb-4.font-500\")\n",
    "[i.text for i in test]"
   ]
  },
  {
   "cell_type": "code",
   "execution_count": 281,
   "metadata": {},
   "outputs": [],
   "source": [
    "# [i.text for i in elements]"
   ]
  },
  {
   "cell_type": "code",
   "execution_count": 292,
   "metadata": {},
   "outputs": [],
   "source": [
    "# from random import randint\n",
    "\n",
    "kroger_items = []\n",
    "for n in range(1,3):\n",
    "    driver.get(\"https://www.kroger.com/search?fulfillment=all&page=\" + str(n) + \"&query=food\")\n",
    "    items = driver.find_elements_by_css_selector(\".kds-Text--m.text-default-800.mt-12.mb-4.font-500\")\n",
    "    for i in items:\n",
    "        items_extracted = i.text\n",
    "        kroger_items.append(items_extracted)\n",
    "        time.sleep(randint(3,10))"
   ]
  },
  {
   "cell_type": "code",
   "execution_count": 290,
   "metadata": {},
   "outputs": [
    {
     "data": {
      "text/plain": [
       "[]"
      ]
     },
     "execution_count": 290,
     "metadata": {},
     "output_type": "execute_result"
    }
   ],
   "source": [
    "kroger_items"
   ]
  },
  {
   "cell_type": "markdown",
   "metadata": {},
   "source": [
    "(Kroger denied access :P)"
   ]
  },
  {
   "cell_type": "markdown",
   "metadata": {},
   "source": [
    "## Test with Wegmans"
   ]
  },
  {
   "cell_type": "code",
   "execution_count": 313,
   "metadata": {},
   "outputs": [],
   "source": [
    "# driver = webdriver.Chrome()\n",
    "# driver.get(\"https://shop.wegmans.com/shop/categories/283?page=1\")\n",
    "# time.sleep(3)\n",
    "# driver.find_element_by_css_selector(\"#shopping-selector-shop-context-intent-instore\").click()\n",
    "# time.sleep(3)\n",
    "# text = driver.find_elements_by_css_selector(\".cell-title\")\n"
   ]
  },
  {
   "cell_type": "code",
   "execution_count": 320,
   "metadata": {},
   "outputs": [],
   "source": [
    "driver = webdriver.Chrome()\n",
    "\n",
    "wegmans_items = []\n",
    "driver.get(\"https://shop.wegmans.com/shop/categories/283?page=1\")\n",
    "time.sleep(3)\n",
    "driver.find_element_by_css_selector(\"#shopping-selector-shop-context-intent-instore\").click()\n",
    "time.sleep(3)\n",
    "for n in range(1,133):\n",
    "    time.sleep(2)\n",
    "    driver.get(\"https://shop.wegmans.com/shop/categories/283?page=\" + str(n))\n",
    "    time.sleep(3)\n",
    "    items = driver.find_elements_by_css_selector(\".cell-title\")\n",
    "    for i in items:\n",
    "        items_extracted = i.text\n",
    "        wegmans_items.append(items_extracted)\n",
    "    time.sleep(randint(3,10))"
   ]
  },
  {
   "cell_type": "code",
   "execution_count": 321,
   "metadata": {},
   "outputs": [
    {
     "data": {
      "text/plain": [
       "6691"
      ]
     },
     "execution_count": 321,
     "metadata": {},
     "output_type": "execute_result"
    }
   ],
   "source": [
    "len(wegmans_items)"
   ]
  },
  {
   "cell_type": "code",
   "execution_count": 322,
   "metadata": {},
   "outputs": [],
   "source": [
    "wegmans_items = pd.Series(wegmans_items)\n",
    "wegmans_items.to_csv('wegmans.csv')"
   ]
  },
  {
   "cell_type": "code",
   "execution_count": 316,
   "metadata": {},
   "outputs": [
    {
     "data": {
      "text/plain": [
       "['Wegmans Black Beans', '15.5 ounce', '15B']"
      ]
     },
     "execution_count": 316,
     "metadata": {},
     "output_type": "execute_result"
    }
   ],
   "source": [
    "testing = [i.text for i in text]\n",
    "testing[0].split('\\n')"
   ]
  },
  {
   "cell_type": "code",
   "execution_count": 329,
   "metadata": {},
   "outputs": [],
   "source": [
    "wegmans_item_names = [i.split('\\n')[0] for i in wegmans_items]\n",
    "wegmans_item_volumns = [i.split('\\n')[1] for i in wegmans_items]"
   ]
  },
  {
   "cell_type": "code",
   "execution_count": 330,
   "metadata": {},
   "outputs": [],
   "source": [
    "columns = {\n",
    "    'item_name': wegmans_item_names,\n",
    "    'item_volumn': wegmans_item_volumns\n",
    "}\n",
    "wegmans = pd.DataFrame(data = columns)"
   ]
  },
  {
   "cell_type": "code",
   "execution_count": 331,
   "metadata": {},
   "outputs": [],
   "source": [
    "wegmans_vect = count_vect.transform(wegmans.item_name)\n",
    "wegmans_tf = train_tf_transformer.transform(wegmans_vect)\n",
    "# wegmans_nmf = nmf_fit.transform(wegmans_tf)"
   ]
  },
  {
   "cell_type": "code",
   "execution_count": 334,
   "metadata": {},
   "outputs": [],
   "source": [
    "X = wegmans_tf\n",
    "\n",
    "y = log_reg.predict(X)"
   ]
  },
  {
   "cell_type": "code",
   "execution_count": 339,
   "metadata": {},
   "outputs": [
    {
     "data": {
      "text/plain": [
       "0.08369451502017636"
      ]
     },
     "execution_count": 339,
     "metadata": {},
     "output_type": "execute_result"
    }
   ],
   "source": [
    "len(y[y == 'asian']) / len(y)"
   ]
  },
  {
   "cell_type": "code",
   "execution_count": 349,
   "metadata": {},
   "outputs": [],
   "source": [
    "wegmans['type'] = y"
   ]
  },
  {
   "cell_type": "code",
   "execution_count": 351,
   "metadata": {},
   "outputs": [
    {
     "data": {
      "text/html": [
       "<div>\n",
       "<style scoped>\n",
       "    .dataframe tbody tr th:only-of-type {\n",
       "        vertical-align: middle;\n",
       "    }\n",
       "\n",
       "    .dataframe tbody tr th {\n",
       "        vertical-align: top;\n",
       "    }\n",
       "\n",
       "    .dataframe thead th {\n",
       "        text-align: right;\n",
       "    }\n",
       "</style>\n",
       "<table border=\"1\" class=\"dataframe\">\n",
       "  <thead>\n",
       "    <tr style=\"text-align: right;\">\n",
       "      <th></th>\n",
       "      <th>item_name</th>\n",
       "      <th>item_volumn</th>\n",
       "      <th>type</th>\n",
       "    </tr>\n",
       "  </thead>\n",
       "  <tbody>\n",
       "    <tr>\n",
       "      <th>27</th>\n",
       "      <td>Nissin Top Ramen Soup, Ramen Noodle, Chicken F...</td>\n",
       "      <td>18 ounce</td>\n",
       "      <td>asian</td>\n",
       "    </tr>\n",
       "    <tr>\n",
       "      <th>55</th>\n",
       "      <td>Wegmans Beef Culinary Stock</td>\n",
       "      <td>32 fl. oz.</td>\n",
       "      <td>asian</td>\n",
       "    </tr>\n",
       "    <tr>\n",
       "      <th>65</th>\n",
       "      <td>Rao's Homemade Marinara Sauce</td>\n",
       "      <td>24 ounce</td>\n",
       "      <td>asian</td>\n",
       "    </tr>\n",
       "    <tr>\n",
       "      <th>75</th>\n",
       "      <td>Wegmans Spicy Brown Mustard</td>\n",
       "      <td>12 ounce</td>\n",
       "      <td>asian</td>\n",
       "    </tr>\n",
       "    <tr>\n",
       "      <th>87</th>\n",
       "      <td>Wegmans Organic White Jasmine Rice</td>\n",
       "      <td>32 ounce</td>\n",
       "      <td>asian</td>\n",
       "    </tr>\n",
       "    <tr>\n",
       "      <th>120</th>\n",
       "      <td>Wegmans Organic Tomato Paste</td>\n",
       "      <td>6 ounce</td>\n",
       "      <td>asian</td>\n",
       "    </tr>\n",
       "    <tr>\n",
       "      <th>123</th>\n",
       "      <td>Wegmans Organic White Basmati Rice</td>\n",
       "      <td>32 ounce</td>\n",
       "      <td>asian</td>\n",
       "    </tr>\n",
       "    <tr>\n",
       "      <th>129</th>\n",
       "      <td>Wegmans Whole Kernel Crisp'N Sweet Corn, No Sa...</td>\n",
       "      <td>15.25 ounce</td>\n",
       "      <td>asian</td>\n",
       "    </tr>\n",
       "    <tr>\n",
       "      <th>144</th>\n",
       "      <td>Arrowhead Mills Flax Seeds, Organic</td>\n",
       "      <td>16 ounce</td>\n",
       "      <td>asian</td>\n",
       "    </tr>\n",
       "    <tr>\n",
       "      <th>145</th>\n",
       "      <td>Wholesome Sugar, Organic, Dark Brown</td>\n",
       "      <td>24 ounce</td>\n",
       "      <td>asian</td>\n",
       "    </tr>\n",
       "    <tr>\n",
       "      <th>153</th>\n",
       "      <td>Herb Ox Bouillon Cubes, Chicken Flavor</td>\n",
       "      <td>3.33 ounce</td>\n",
       "      <td>asian</td>\n",
       "    </tr>\n",
       "    <tr>\n",
       "      <th>163</th>\n",
       "      <td>Herb Ox Bouillon Cubes, Beef Flavor</td>\n",
       "      <td>3.25 ounce</td>\n",
       "      <td>asian</td>\n",
       "    </tr>\n",
       "    <tr>\n",
       "      <th>171</th>\n",
       "      <td>Victoria Simmer Sauce, Marsala</td>\n",
       "      <td>16 ounce</td>\n",
       "      <td>asian</td>\n",
       "    </tr>\n",
       "    <tr>\n",
       "      <th>173</th>\n",
       "      <td>Herb Ox Granulated Bouillon, Chicken Flavor</td>\n",
       "      <td>4 ounce</td>\n",
       "      <td>asian</td>\n",
       "    </tr>\n",
       "    <tr>\n",
       "      <th>190</th>\n",
       "      <td>Wegmans Basmati Rice</td>\n",
       "      <td>5 lb.</td>\n",
       "      <td>asian</td>\n",
       "    </tr>\n",
       "    <tr>\n",
       "      <th>193</th>\n",
       "      <td>Silver Spring Wasabi Sauce, Hot</td>\n",
       "      <td>9.25 ounce</td>\n",
       "      <td>asian</td>\n",
       "    </tr>\n",
       "    <tr>\n",
       "      <th>196</th>\n",
       "      <td>Kind Nuts &amp; Spices, Caramel Almond, Pumpkin Spice</td>\n",
       "      <td>1.4 ounce</td>\n",
       "      <td>asian</td>\n",
       "    </tr>\n",
       "    <tr>\n",
       "      <th>214</th>\n",
       "      <td>FOURTH CREEK FOODS Relish, Red Pepper, Hint of...</td>\n",
       "      <td>12 ounce</td>\n",
       "      <td>asian</td>\n",
       "    </tr>\n",
       "    <tr>\n",
       "      <th>233</th>\n",
       "      <td>Melissa's Chanterelle Dried Wild Mushrooms</td>\n",
       "      <td>0.5 ounce</td>\n",
       "      <td>asian</td>\n",
       "    </tr>\n",
       "    <tr>\n",
       "      <th>237</th>\n",
       "      <td>GOGO SQUEEZ Applesauce, Organic, Applestrawber...</td>\n",
       "      <td>38.4 ounce</td>\n",
       "      <td>asian</td>\n",
       "    </tr>\n",
       "  </tbody>\n",
       "</table>\n",
       "</div>"
      ],
      "text/plain": [
       "                                             item_name  item_volumn   type\n",
       "27   Nissin Top Ramen Soup, Ramen Noodle, Chicken F...     18 ounce  asian\n",
       "55                         Wegmans Beef Culinary Stock   32 fl. oz.  asian\n",
       "65                       Rao's Homemade Marinara Sauce     24 ounce  asian\n",
       "75                         Wegmans Spicy Brown Mustard     12 ounce  asian\n",
       "87                  Wegmans Organic White Jasmine Rice     32 ounce  asian\n",
       "120                       Wegmans Organic Tomato Paste      6 ounce  asian\n",
       "123                 Wegmans Organic White Basmati Rice     32 ounce  asian\n",
       "129  Wegmans Whole Kernel Crisp'N Sweet Corn, No Sa...  15.25 ounce  asian\n",
       "144                Arrowhead Mills Flax Seeds, Organic     16 ounce  asian\n",
       "145               Wholesome Sugar, Organic, Dark Brown     24 ounce  asian\n",
       "153             Herb Ox Bouillon Cubes, Chicken Flavor   3.33 ounce  asian\n",
       "163                Herb Ox Bouillon Cubes, Beef Flavor   3.25 ounce  asian\n",
       "171                     Victoria Simmer Sauce, Marsala     16 ounce  asian\n",
       "173        Herb Ox Granulated Bouillon, Chicken Flavor      4 ounce  asian\n",
       "190                               Wegmans Basmati Rice        5 lb.  asian\n",
       "193                    Silver Spring Wasabi Sauce, Hot   9.25 ounce  asian\n",
       "196  Kind Nuts & Spices, Caramel Almond, Pumpkin Spice    1.4 ounce  asian\n",
       "214  FOURTH CREEK FOODS Relish, Red Pepper, Hint of...     12 ounce  asian\n",
       "233         Melissa's Chanterelle Dried Wild Mushrooms    0.5 ounce  asian\n",
       "237  GOGO SQUEEZ Applesauce, Organic, Applestrawber...   38.4 ounce  asian"
      ]
     },
     "execution_count": 351,
     "metadata": {},
     "output_type": "execute_result"
    }
   ],
   "source": [
    "wegmans[wegmans['type'] == 'asian'].head(20)"
   ]
  },
  {
   "cell_type": "markdown",
   "metadata": {},
   "source": [
    "### Test with Wegmans' 'International Food' Collection"
   ]
  },
  {
   "cell_type": "code",
   "execution_count": 354,
   "metadata": {},
   "outputs": [],
   "source": [
    "driver = webdriver.Chrome()\n",
    "\n",
    "wegmans_international_items = []\n",
    "driver.get(\"https://shop.wegmans.com/shop/categories/345?page=1\")\n",
    "time.sleep(3)\n",
    "driver.find_element_by_css_selector(\"#shopping-selector-shop-context-intent-instore\").click()\n",
    "time.sleep(3)\n",
    "for n in range(1,26):\n",
    "    time.sleep(2)\n",
    "    driver.get(\"https://shop.wegmans.com/shop/categories/345?page=\" + str(n))\n",
    "    time.sleep(3)\n",
    "    items = driver.find_elements_by_css_selector(\".cell-title\")\n",
    "    for i in items:\n",
    "        items_extracted = i.text\n",
    "        wegmans_international_items.append(items_extracted)\n",
    "    time.sleep(randint(3,10))"
   ]
  },
  {
   "cell_type": "code",
   "execution_count": 355,
   "metadata": {},
   "outputs": [],
   "source": [
    "wegmans_international_items_pd = pd.Series(wegmans_international_items)\n",
    "wegmans_international_items_pd.to_csv('wegmans_international.csv')"
   ]
  },
  {
   "cell_type": "code",
   "execution_count": 356,
   "metadata": {},
   "outputs": [],
   "source": [
    "wegmans_intl_item_names = [i.split('\\n')[0] for i in wegmans_international_items]\n",
    "wegmans_intl_item_volumns = [i.split('\\n')[1] for i in wegmans_international_items]"
   ]
  },
  {
   "cell_type": "code",
   "execution_count": 357,
   "metadata": {},
   "outputs": [],
   "source": [
    "columns = {\n",
    "    'item_name': wegmans_intl_item_names,\n",
    "    'item_volumn': wegmans_intl_item_volumns\n",
    "}\n",
    "wegmans_intl = pd.DataFrame(data = columns)"
   ]
  },
  {
   "cell_type": "code",
   "execution_count": 358,
   "metadata": {},
   "outputs": [],
   "source": [
    "wegmans_intl_vect = count_vect.transform(wegmans_intl.item_name)\n",
    "wegmans_intl_tf = train_tf_transformer.transform(wegmans_intl_vect)"
   ]
  },
  {
   "cell_type": "code",
   "execution_count": 359,
   "metadata": {},
   "outputs": [],
   "source": [
    "X_intl = wegmans_intl_tf\n",
    "\n",
    "y_intl = log_reg.predict(X_intl)"
   ]
  },
  {
   "cell_type": "code",
   "execution_count": 360,
   "metadata": {},
   "outputs": [
    {
     "data": {
      "text/plain": [
       "0.30980945659844744"
      ]
     },
     "execution_count": 360,
     "metadata": {},
     "output_type": "execute_result"
    }
   ],
   "source": [
    "len(y_intl[y_intl == 'asian']) / len(y_intl)"
   ]
  },
  {
   "cell_type": "code",
   "execution_count": 361,
   "metadata": {},
   "outputs": [],
   "source": [
    "wegmans_intl['type'] = y_intl"
   ]
  },
  {
   "cell_type": "code",
   "execution_count": 362,
   "metadata": {},
   "outputs": [
    {
     "data": {
      "text/html": [
       "<div>\n",
       "<style scoped>\n",
       "    .dataframe tbody tr th:only-of-type {\n",
       "        vertical-align: middle;\n",
       "    }\n",
       "\n",
       "    .dataframe tbody tr th {\n",
       "        vertical-align: top;\n",
       "    }\n",
       "\n",
       "    .dataframe thead th {\n",
       "        text-align: right;\n",
       "    }\n",
       "</style>\n",
       "<table border=\"1\" class=\"dataframe\">\n",
       "  <thead>\n",
       "    <tr style=\"text-align: right;\">\n",
       "      <th></th>\n",
       "      <th>item_name</th>\n",
       "      <th>item_volumn</th>\n",
       "      <th>type</th>\n",
       "    </tr>\n",
       "  </thead>\n",
       "  <tbody>\n",
       "    <tr>\n",
       "      <th>5</th>\n",
       "      <td>Wegmans Organic Tahini</td>\n",
       "      <td>16 ounce</td>\n",
       "      <td>asian</td>\n",
       "    </tr>\n",
       "    <tr>\n",
       "      <th>7</th>\n",
       "      <td>Coconut Secret Seasoning Sauce, Soy-Free, Coco...</td>\n",
       "      <td>8 fl. oz.</td>\n",
       "      <td>asian</td>\n",
       "    </tr>\n",
       "    <tr>\n",
       "      <th>8</th>\n",
       "      <td>Wegmans Organic Salsa, Hot</td>\n",
       "      <td>15.5 ounce</td>\n",
       "      <td>asian</td>\n",
       "    </tr>\n",
       "    <tr>\n",
       "      <th>11</th>\n",
       "      <td>Wegmans Organic General Tso's Sauce</td>\n",
       "      <td>14.5 ounce</td>\n",
       "      <td>asian</td>\n",
       "    </tr>\n",
       "    <tr>\n",
       "      <th>13</th>\n",
       "      <td>Wegmans Organic Coconut Cream</td>\n",
       "      <td>5.4 fl. oz.</td>\n",
       "      <td>asian</td>\n",
       "    </tr>\n",
       "    <tr>\n",
       "      <th>...</th>\n",
       "      <td>...</td>\n",
       "      <td>...</td>\n",
       "      <td>...</td>\n",
       "    </tr>\n",
       "    <tr>\n",
       "      <th>1396</th>\n",
       "      <td>Kikkoman Soy Sauce, Smooth Aromatic, Shoyu</td>\n",
       "      <td>6.8 fl. oz.</td>\n",
       "      <td>asian</td>\n",
       "    </tr>\n",
       "    <tr>\n",
       "      <th>1405</th>\n",
       "      <td>Nongshim Chajang Noodle, Chapagetti</td>\n",
       "      <td>4.5 ounce</td>\n",
       "      <td>asian</td>\n",
       "    </tr>\n",
       "    <tr>\n",
       "      <th>1410</th>\n",
       "      <td>Paldo Soup, Bowl Noodle, Hot &amp; Spicy Flavor</td>\n",
       "      <td>3.03 ounce</td>\n",
       "      <td>asian</td>\n",
       "    </tr>\n",
       "    <tr>\n",
       "      <th>1412</th>\n",
       "      <td>Nongshim Udon Type Noodles, Spicy Seafood Flavor</td>\n",
       "      <td>4.2 ounce</td>\n",
       "      <td>asian</td>\n",
       "    </tr>\n",
       "    <tr>\n",
       "      <th>1414</th>\n",
       "      <td>LIME LEMON Tea Drink, Refreshing</td>\n",
       "      <td>50.7 fl. oz.</td>\n",
       "      <td>asian</td>\n",
       "    </tr>\n",
       "  </tbody>\n",
       "</table>\n",
       "<p>439 rows × 3 columns</p>\n",
       "</div>"
      ],
      "text/plain": [
       "                                              item_name   item_volumn   type\n",
       "5                                Wegmans Organic Tahini      16 ounce  asian\n",
       "7     Coconut Secret Seasoning Sauce, Soy-Free, Coco...     8 fl. oz.  asian\n",
       "8                            Wegmans Organic Salsa, Hot    15.5 ounce  asian\n",
       "11                  Wegmans Organic General Tso's Sauce    14.5 ounce  asian\n",
       "13                        Wegmans Organic Coconut Cream   5.4 fl. oz.  asian\n",
       "...                                                 ...           ...    ...\n",
       "1396         Kikkoman Soy Sauce, Smooth Aromatic, Shoyu   6.8 fl. oz.  asian\n",
       "1405                Nongshim Chajang Noodle, Chapagetti     4.5 ounce  asian\n",
       "1410        Paldo Soup, Bowl Noodle, Hot & Spicy Flavor    3.03 ounce  asian\n",
       "1412   Nongshim Udon Type Noodles, Spicy Seafood Flavor     4.2 ounce  asian\n",
       "1414                   LIME LEMON Tea Drink, Refreshing  50.7 fl. oz.  asian\n",
       "\n",
       "[439 rows x 3 columns]"
      ]
     },
     "execution_count": 362,
     "metadata": {},
     "output_type": "execute_result"
    }
   ],
   "source": [
    "wegmans_intl[wegmans_intl['type'] == 'asian']"
   ]
  },
  {
   "cell_type": "markdown",
   "metadata": {},
   "source": [
    "## Test with Family Dollar\n",
    "(scrolling is too hard la)"
   ]
  },
  {
   "cell_type": "code",
   "execution_count": 370,
   "metadata": {},
   "outputs": [],
   "source": [
    "# driver = webdriver.Chrome()\n",
    "\n",
    "# familydollar_items = []\n",
    "# driver.get(\"https://www.familydollar.com/categories?N=549612734&No=0&Nr=product.active:1\")\n",
    "# time.sleep(3)\n",
    "# elements = driver.find_elements_by_css_selector(\".product-title\")\n",
    "# for i in elements:\n",
    "#     familydollar_items.append(i.text)\n",
    "# # for n in range(1,26):\n",
    "# #     time.sleep(2)\n",
    "# #     driver.get(\"https://shop.wegmans.com/shop/categories/345?page=\" + str(n))\n",
    "# #     time.sleep(3)\n",
    "# #     items = driver.find_elements_by_css_selector(\".cell-title\")\n",
    "# #     for i in items:\n",
    "# #         items_extracted = i.text\n",
    "# #         wegmans_international_items.append(items_extracted)\n",
    "# #     time.sleep(randint(3,10))"
   ]
  },
  {
   "cell_type": "code",
   "execution_count": 372,
   "metadata": {},
   "outputs": [
    {
     "data": {
      "text/plain": [
       "29"
      ]
     },
     "execution_count": 372,
     "metadata": {},
     "output_type": "execute_result"
    }
   ],
   "source": [
    "# for i in elements:\n",
    "#     familydollar_items.append(i.text)\n",
    "# len(familydollar_items)"
   ]
  },
  {
   "cell_type": "code",
   "execution_count": 373,
   "metadata": {},
   "outputs": [],
   "source": [
    "# driver = webdriver.Chrome()\n",
    "\n",
    "# familydollar_items = []\n",
    "# driver.get(\"https://www.familydollar.com/categories?N=549612734&No=0&Nr=product.active:1\")\n",
    "# time.sleep(3)\n",
    "# item_wrapper = driver.find_elements_by_css_selector(\".product-wrapper.items-per-row-3\")\n",
    "\n",
    "# # get_number = 0\n",
    "# # while True:\n",
    "# #     count = get_number\n",
    "# #     driver.execute_script(\"arguments[0].scrollIntoView();\", )\n",
    "\n",
    "    "
   ]
  },
  {
   "cell_type": "code",
   "execution_count": 391,
   "metadata": {},
   "outputs": [],
   "source": [
    "# item_wrapper = driver.find_elements_by_css_selector(\".product-wrapper.items-per-row-3.items-per-row-mobile-2\")"
   ]
  },
  {
   "cell_type": "code",
   "execution_count": 392,
   "metadata": {},
   "outputs": [],
   "source": [
    "# test = []\n",
    "# for i in item_wrapper:\n",
    "#     testing = i.find_elements_by_css_selector(\".search-product-link\")\n",
    "#     test.append(testing)\n",
    "\n",
    "# # test = item_wrapper.find_elements_by_css_selector(\".search-product-link\")"
   ]
  },
  {
   "cell_type": "markdown",
   "metadata": {},
   "source": [
    "## Testing with Harris Teeter"
   ]
  },
  {
   "cell_type": "code",
   "execution_count": 10,
   "metadata": {},
   "outputs": [],
   "source": [
    "# driver = webdriver.Chrome()\n",
    "\n",
    "harris_teeter_canned = []\n",
    "driver.get(\"https://www.harristeeter.com/shop/store/332/category/583/subCategory/713,1557/products?isSpecialSubCategory=false\")\n",
    "sleep(3)\n",
    "elements = driver.find_elements_by_css_selector(\".product-name\")\n",
    "for i in elements:\n",
    "    harris_teeter_canned.append(i.text)\n",
    "# for n in range(1,26):\n",
    "#     time.sleep(2)\n",
    "#     driver.get(\"https://shop.wegmans.com/shop/categories/345?page=\" + str(n))\n",
    "#     time.sleep(3)\n",
    "#     items = driver.find_elements_by_css_selector(\".cell-title\")\n",
    "#     for i in items:\n",
    "#         items_extracted = i.text\n",
    "#         wegmans_international_items.append(items_extracted)\n",
    "#     time.sleep(randint(3,10))"
   ]
  },
  {
   "cell_type": "code",
   "execution_count": 12,
   "metadata": {},
   "outputs": [],
   "source": [
    "harris_teeter_noodles = []\n",
    "driver.get(\"https://www.harristeeter.com/shop/store/332/category/583/subCategory/713,976/products?isSpecialSubCategory=false\")\n",
    "sleep(3)\n",
    "elements = driver.find_elements_by_css_selector(\".product-name\")\n",
    "for i in elements:\n",
    "    harris_teeter_noodles.append(i.text)\n",
    "\n"
   ]
  },
  {
   "cell_type": "code",
   "execution_count": 14,
   "metadata": {},
   "outputs": [],
   "source": [
    "harris_teeter_noodles_2 = []\n",
    "driver.get(\"https://www.harristeeter.com/shop/store/332/category/583/subCategory/713,976/products?pageNo=2&appliedSort=Brand\")\n",
    "sleep(3)\n",
    "elements = driver.find_elements_by_css_selector(\".product-name\")\n",
    "for i in elements:\n",
    "    harris_teeter_noodles_2.append(i.text)"
   ]
  },
  {
   "cell_type": "code",
   "execution_count": 16,
   "metadata": {},
   "outputs": [],
   "source": [
    "harris_teeter_noodles = harris_teeter_noodles + harris_teeter_noodles_2"
   ]
  },
  {
   "cell_type": "code",
   "execution_count": 18,
   "metadata": {},
   "outputs": [],
   "source": [
    "harris_teeter_other = []\n",
    "driver.get(\"https://www.harristeeter.com/shop/store/332/category/583/subCategory/713,1558/products?isSpecialSubCategory=false\")\n",
    "sleep(3)\n",
    "elements = driver.find_elements_by_css_selector(\".product-name\")\n",
    "for i in elements:\n",
    "    harris_teeter_other.append(i.text)"
   ]
  },
  {
   "cell_type": "code",
   "execution_count": 19,
   "metadata": {},
   "outputs": [
    {
     "data": {
      "text/plain": [
       "['Annie Chuns Soup Bowl, Coconut, Thai-Style, Medium',\n",
       " 'Hapi Wasabi Peas - Hot',\n",
       " 'HT Traders Wasabi Peas',\n",
       " 'Pocky Biscuit Sticks Covered with Strawberry Cream',\n",
       " 'Shirakiku Ramune Drink, Carbonated, Strawberry',\n",
       " 'Sushi Chef Pickled Ginger',\n",
       " 'Thai Kitchen Aseptic Coconut Milk']"
      ]
     },
     "execution_count": 19,
     "metadata": {},
     "output_type": "execute_result"
    }
   ],
   "source": [
    "harris_teeter_other"
   ]
  },
  {
   "cell_type": "code",
   "execution_count": 20,
   "metadata": {},
   "outputs": [],
   "source": [
    "harris_teeter_sauce = []\n",
    "driver.get(\"https://www.harristeeter.com/shop/store/332/category/583/subCategory/713,912/products?isSpecialSubCategory=false\")\n",
    "sleep(3)\n",
    "elements = driver.find_elements_by_css_selector(\".product-name\")\n",
    "for i in elements:\n",
    "    harris_teeter_sauce.append(i.text)"
   ]
  },
  {
   "cell_type": "code",
   "execution_count": 21,
   "metadata": {},
   "outputs": [],
   "source": [
    "harris_teeter_sauce = []\n",
    "for n in range(1,4):\n",
    "    driver.get(\"https://www.harristeeter.com/shop/store/332/category/583/subCategory/713,912/products?pageNo=\" + str(n) +  \"&appliedSort=Brand\")\n",
    "    sleep(randint(2,6))\n",
    "    elements = driver.find_elements_by_css_selector(\".product-name\")\n",
    "    for i in elements:\n",
    "        harris_teeter_sauce.append(i.text)\n",
    "    sleep(randint(2,6))\n"
   ]
  },
  {
   "cell_type": "code",
   "execution_count": 23,
   "metadata": {},
   "outputs": [],
   "source": [
    "harris_teeter_seasoning = []\n",
    "driver.get(\"https://www.harristeeter.com/shop/store/332/category/583/subCategory/713,1231/products?isSpecialSubCategory=false\")\n",
    "sleep(3)\n",
    "elements = driver.find_elements_by_css_selector(\".product-name\")\n",
    "for i in elements:\n",
    "    harris_teeter_seasoning.append(i.text)"
   ]
  },
  {
   "cell_type": "code",
   "execution_count": 26,
   "metadata": {},
   "outputs": [],
   "source": [
    "harris_teeter_ramen = []\n",
    "for n in range(1,3):\n",
    "    driver.get(\"https://www.harristeeter.com/shop/store/332/category/583/subCategory/713,1164/products?pageNo=\" + str(n) + \"&appliedSort=Brand\")\n",
    "    sleep(3)\n",
    "    elements = driver.find_elements_by_css_selector(\".product-name\")\n",
    "    for i in elements:\n",
    "        harris_teeter_ramen.append(i.text)"
   ]
  },
  {
   "cell_type": "code",
   "execution_count": 28,
   "metadata": {},
   "outputs": [],
   "source": [
    "harris_teeter_asian = harris_teeter_ramen + harris_teeter_seasoning + harris_teeter_sauce + harris_teeter_other + harris_teeter_noodles + harris_teeter_canned"
   ]
  },
  {
   "cell_type": "code",
   "execution_count": 30,
   "metadata": {},
   "outputs": [],
   "source": [
    "harris_teeter_asian = pd.Series(harris_teeter_asian)\n",
    "harris_teeter_asian.to_csv(\"harris_teeter_asian.csv\")"
   ]
  },
  {
   "cell_type": "code",
   "execution_count": 68,
   "metadata": {},
   "outputs": [],
   "source": [
    "ht_asian_vect = count_vect.transform(harris_teeter_asian)\n",
    "ht_asian_tf = train_tf_transformer.transform(ht_asian_vect)"
   ]
  },
  {
   "cell_type": "code",
   "execution_count": 69,
   "metadata": {},
   "outputs": [],
   "source": [
    "X_ht = ht_asian_tf\n",
    "\n",
    "y_ht = log_reg.predict(X_ht)"
   ]
  },
  {
   "cell_type": "code",
   "execution_count": 70,
   "metadata": {},
   "outputs": [
    {
     "data": {
      "text/plain": [
       "0.5808823529411765"
      ]
     },
     "execution_count": 70,
     "metadata": {},
     "output_type": "execute_result"
    }
   ],
   "source": [
    "len(y_ht[y_ht == 'asian']) / len(y_ht)"
   ]
  },
  {
   "cell_type": "code",
   "execution_count": null,
   "metadata": {},
   "outputs": [],
   "source": []
  }
 ],
 "metadata": {
  "kernelspec": {
   "display_name": "Python 3",
   "language": "python",
   "name": "python3"
  },
  "language_info": {
   "codemirror_mode": {
    "name": "ipython",
    "version": 3
   },
   "file_extension": ".py",
   "mimetype": "text/x-python",
   "name": "python",
   "nbconvert_exporter": "python",
   "pygments_lexer": "ipython3",
   "version": "3.8.3"
  }
 },
 "nbformat": 4,
 "nbformat_minor": 4
}
